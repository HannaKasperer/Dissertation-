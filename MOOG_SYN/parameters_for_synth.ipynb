{
 "cells": [
  {
   "cell_type": "code",
   "execution_count": 1,
   "id": "ec021900",
   "metadata": {},
   "outputs": [
    {
     "name": "stderr",
     "output_type": "stream",
     "text": [
      "WARNING (theano.tensor.blas): Using NumPy C-API based implementation for BLAS functions.\n"
     ]
    }
   ],
   "source": [
    "import pandas as pd\n",
    "import numpy as np\n",
    "import matplotlib.pyplot as plt\n",
    "import scipy as sp\n",
    "import pymc3 as pm\n",
    "import os\n",
    "from astropy.io import fits\n"
   ]
  },
  {
   "cell_type": "markdown",
   "id": "714fe358",
   "metadata": {},
   "source": [
    "## parameters for limbad calculator"
   ]
  },
  {
   "cell_type": "code",
   "execution_count": 13,
   "id": "4c741a0e",
   "metadata": {},
   "outputs": [
    {
     "data": {
      "text/html": [
       "<div>\n",
       "<style scoped>\n",
       "    .dataframe tbody tr th:only-of-type {\n",
       "        vertical-align: middle;\n",
       "    }\n",
       "\n",
       "    .dataframe tbody tr th {\n",
       "        vertical-align: top;\n",
       "    }\n",
       "\n",
       "    .dataframe thead th {\n",
       "        text-align: right;\n",
       "    }\n",
       "</style>\n",
       "<table border=\"1\" class=\"dataframe\">\n",
       "  <thead>\n",
       "    <tr style=\"text-align: right;\">\n",
       "      <th></th>\n",
       "      <th>star</th>\n",
       "      <th>teff</th>\n",
       "      <th>logg</th>\n",
       "      <th>feh</th>\n",
       "      <th>planet_name</th>\n",
       "      <th>gaia_dr3_id</th>\n",
       "      <th>MgI_rel_sun</th>\n",
       "    </tr>\n",
       "  </thead>\n",
       "  <tbody>\n",
       "    <tr>\n",
       "      <th>0</th>\n",
       "      <td>55Cnc_SINGLEHR11_ESPRESSO_2022</td>\n",
       "      <td>5310</td>\n",
       "      <td>4.211</td>\n",
       "      <td>0.299</td>\n",
       "      <td>55 Cnc e</td>\n",
       "      <td>7.049670e+17</td>\n",
       "      <td>0.379</td>\n",
       "    </tr>\n",
       "    <tr>\n",
       "      <th>1</th>\n",
       "      <td>CoRoT-07_ESPRESSO_2024</td>\n",
       "      <td>5269</td>\n",
       "      <td>4.381</td>\n",
       "      <td>0.044</td>\n",
       "      <td>CoRoT-7 b</td>\n",
       "      <td>3.107267e+18</td>\n",
       "      <td>-0.019</td>\n",
       "    </tr>\n",
       "    <tr>\n",
       "      <th>2</th>\n",
       "      <td>K2-106_ESPRESSO_2024</td>\n",
       "      <td>5505</td>\n",
       "      <td>4.338</td>\n",
       "      <td>0.080</td>\n",
       "      <td>EPIC 220674823 b</td>\n",
       "      <td>2.582618e+18</td>\n",
       "      <td>0.074</td>\n",
       "    </tr>\n",
       "    <tr>\n",
       "      <th>3</th>\n",
       "      <td>K2-314_ESPRESSO_2024</td>\n",
       "      <td>5555</td>\n",
       "      <td>4.023</td>\n",
       "      <td>0.163</td>\n",
       "      <td>EPIC 249893012 b</td>\n",
       "      <td>6.259263e+18</td>\n",
       "      <td>0.267</td>\n",
       "    </tr>\n",
       "    <tr>\n",
       "      <th>4</th>\n",
       "      <td>K2-229_ESPRESSO_2024</td>\n",
       "      <td>5126</td>\n",
       "      <td>4.336</td>\n",
       "      <td>-0.088</td>\n",
       "      <td>K2-229 b</td>\n",
       "      <td>3.583631e+18</td>\n",
       "      <td>-0.065</td>\n",
       "    </tr>\n",
       "    <tr>\n",
       "      <th>5</th>\n",
       "      <td>HD136352_SINGLEHR11_ESPRESSO_2022</td>\n",
       "      <td>5652</td>\n",
       "      <td>4.371</td>\n",
       "      <td>-0.353</td>\n",
       "      <td>HD 136352 b</td>\n",
       "      <td>5.902750e+18</td>\n",
       "      <td>-0.133</td>\n",
       "    </tr>\n",
       "    <tr>\n",
       "      <th>6</th>\n",
       "      <td>HD137496_ESPRESSO_2024</td>\n",
       "      <td>5797</td>\n",
       "      <td>4.093</td>\n",
       "      <td>-0.034</td>\n",
       "      <td>HD 137496 b</td>\n",
       "      <td>6.258811e+18</td>\n",
       "      <td>0.008</td>\n",
       "    </tr>\n",
       "    <tr>\n",
       "      <th>7</th>\n",
       "      <td>TOI-402_ESPRESSO_2024</td>\n",
       "      <td>5067</td>\n",
       "      <td>4.201</td>\n",
       "      <td>0.054</td>\n",
       "      <td>HD 15337 b</td>\n",
       "      <td>5.068778e+18</td>\n",
       "      <td>0.106</td>\n",
       "    </tr>\n",
       "    <tr>\n",
       "      <th>8</th>\n",
       "      <td>HD20329_ESPRESSO_2024</td>\n",
       "      <td>5574</td>\n",
       "      <td>4.285</td>\n",
       "      <td>-0.106</td>\n",
       "      <td>HD 20329 b</td>\n",
       "      <td>3.039865e+16</td>\n",
       "      <td>0.135</td>\n",
       "    </tr>\n",
       "    <tr>\n",
       "      <th>9</th>\n",
       "      <td>HD213885_ESPRESSO_2024</td>\n",
       "      <td>5906</td>\n",
       "      <td>4.427</td>\n",
       "      <td>-0.005</td>\n",
       "      <td>HD 213885 b</td>\n",
       "      <td>6.407429e+18</td>\n",
       "      <td>-0.019</td>\n",
       "    </tr>\n",
       "    <tr>\n",
       "      <th>10</th>\n",
       "      <td>HD3167_ESPRESSO_2024</td>\n",
       "      <td>5228</td>\n",
       "      <td>4.285</td>\n",
       "      <td>-0.019</td>\n",
       "      <td>HD 3167 b</td>\n",
       "      <td>2.554032e+18</td>\n",
       "      <td>0.014</td>\n",
       "    </tr>\n",
       "    <tr>\n",
       "      <th>11</th>\n",
       "      <td>HD80653_ESPRESSO_2024</td>\n",
       "      <td>5951</td>\n",
       "      <td>4.330</td>\n",
       "      <td>0.344</td>\n",
       "      <td>HD 80653 b</td>\n",
       "      <td>6.064773e+17</td>\n",
       "      <td>0.308</td>\n",
       "    </tr>\n",
       "    <tr>\n",
       "      <th>12</th>\n",
       "      <td>TOI-469_SINGLEHR11_ESPRESSO_2022</td>\n",
       "      <td>5289</td>\n",
       "      <td>4.237</td>\n",
       "      <td>0.239</td>\n",
       "      <td>HIP 29442 c</td>\n",
       "      <td>2.993562e+18</td>\n",
       "      <td>0.258</td>\n",
       "    </tr>\n",
       "    <tr>\n",
       "      <th>13</th>\n",
       "      <td>K2-111_ESPRESSO_2024</td>\n",
       "      <td>5791</td>\n",
       "      <td>4.346</td>\n",
       "      <td>-0.477</td>\n",
       "      <td>K2-111 b</td>\n",
       "      <td>5.300667e+16</td>\n",
       "      <td>-0.201</td>\n",
       "    </tr>\n",
       "    <tr>\n",
       "      <th>14</th>\n",
       "      <td>K2-131_ESPRESSO_2024</td>\n",
       "      <td>5043</td>\n",
       "      <td>4.272</td>\n",
       "      <td>-0.157</td>\n",
       "      <td>K2-131 b</td>\n",
       "      <td>3.580921e+18</td>\n",
       "      <td>-0.191</td>\n",
       "    </tr>\n",
       "    <tr>\n",
       "      <th>15</th>\n",
       "      <td>K2-265_ESPRESSO_2024</td>\n",
       "      <td>5427</td>\n",
       "      <td>4.345</td>\n",
       "      <td>0.049</td>\n",
       "      <td>K2-265 b</td>\n",
       "      <td>2.597120e+18</td>\n",
       "      <td>0.076</td>\n",
       "    </tr>\n",
       "    <tr>\n",
       "      <th>16</th>\n",
       "      <td>HD285181_ESPRESSO_2024</td>\n",
       "      <td>5554</td>\n",
       "      <td>4.436</td>\n",
       "      <td>0.107</td>\n",
       "      <td>K2-291 b</td>\n",
       "      <td>3.409149e+18</td>\n",
       "      <td>0.080</td>\n",
       "    </tr>\n",
       "    <tr>\n",
       "      <th>17</th>\n",
       "      <td>K2-38_ESPRESSO_2024</td>\n",
       "      <td>5726</td>\n",
       "      <td>4.266</td>\n",
       "      <td>0.257</td>\n",
       "      <td>K2-38 b</td>\n",
       "      <td>6.237130e+18</td>\n",
       "      <td>0.328</td>\n",
       "    </tr>\n",
       "    <tr>\n",
       "      <th>18</th>\n",
       "      <td>TOI-238_SINGLEHR11_ESPRESSO_2022</td>\n",
       "      <td>4923</td>\n",
       "      <td>4.269</td>\n",
       "      <td>-0.156</td>\n",
       "      <td>TOI-238 b</td>\n",
       "      <td>2.405082e+18</td>\n",
       "      <td>-0.124</td>\n",
       "    </tr>\n",
       "    <tr>\n",
       "      <th>19</th>\n",
       "      <td>TOI-561_ESPRESSO_2024</td>\n",
       "      <td>5318</td>\n",
       "      <td>4.390</td>\n",
       "      <td>-0.404</td>\n",
       "      <td>TOI-561 b</td>\n",
       "      <td>3.850421e+18</td>\n",
       "      <td>-0.178</td>\n",
       "    </tr>\n",
       "    <tr>\n",
       "      <th>20</th>\n",
       "      <td>WASP-47_ESPRESSO_2024</td>\n",
       "      <td>5552</td>\n",
       "      <td>4.296</td>\n",
       "      <td>0.404</td>\n",
       "      <td>WASP-47 e</td>\n",
       "      <td>2.613413e+18</td>\n",
       "      <td>0.415</td>\n",
       "    </tr>\n",
       "  </tbody>\n",
       "</table>\n",
       "</div>"
      ],
      "text/plain": [
       "                                 star  teff   logg    feh       planet_name  \\\n",
       "0      55Cnc_SINGLEHR11_ESPRESSO_2022  5310  4.211  0.299          55 Cnc e   \n",
       "1              CoRoT-07_ESPRESSO_2024  5269  4.381  0.044         CoRoT-7 b   \n",
       "2                K2-106_ESPRESSO_2024  5505  4.338  0.080  EPIC 220674823 b   \n",
       "3                K2-314_ESPRESSO_2024  5555  4.023  0.163  EPIC 249893012 b   \n",
       "4                K2-229_ESPRESSO_2024  5126  4.336 -0.088          K2-229 b   \n",
       "5   HD136352_SINGLEHR11_ESPRESSO_2022  5652  4.371 -0.353       HD 136352 b   \n",
       "6              HD137496_ESPRESSO_2024  5797  4.093 -0.034       HD 137496 b   \n",
       "7               TOI-402_ESPRESSO_2024  5067  4.201  0.054        HD 15337 b   \n",
       "8               HD20329_ESPRESSO_2024  5574  4.285 -0.106        HD 20329 b   \n",
       "9              HD213885_ESPRESSO_2024  5906  4.427 -0.005       HD 213885 b   \n",
       "10               HD3167_ESPRESSO_2024  5228  4.285 -0.019         HD 3167 b   \n",
       "11              HD80653_ESPRESSO_2024  5951  4.330  0.344        HD 80653 b   \n",
       "12   TOI-469_SINGLEHR11_ESPRESSO_2022  5289  4.237  0.239       HIP 29442 c   \n",
       "13               K2-111_ESPRESSO_2024  5791  4.346 -0.477          K2-111 b   \n",
       "14               K2-131_ESPRESSO_2024  5043  4.272 -0.157          K2-131 b   \n",
       "15               K2-265_ESPRESSO_2024  5427  4.345  0.049          K2-265 b   \n",
       "16             HD285181_ESPRESSO_2024  5554  4.436  0.107          K2-291 b   \n",
       "17                K2-38_ESPRESSO_2024  5726  4.266  0.257           K2-38 b   \n",
       "18   TOI-238_SINGLEHR11_ESPRESSO_2022  4923  4.269 -0.156         TOI-238 b   \n",
       "19              TOI-561_ESPRESSO_2024  5318  4.390 -0.404         TOI-561 b   \n",
       "20              WASP-47_ESPRESSO_2024  5552  4.296  0.404         WASP-47 e   \n",
       "\n",
       "     gaia_dr3_id  MgI_rel_sun  \n",
       "0   7.049670e+17        0.379  \n",
       "1   3.107267e+18       -0.019  \n",
       "2   2.582618e+18        0.074  \n",
       "3   6.259263e+18        0.267  \n",
       "4   3.583631e+18       -0.065  \n",
       "5   5.902750e+18       -0.133  \n",
       "6   6.258811e+18        0.008  \n",
       "7   5.068778e+18        0.106  \n",
       "8   3.039865e+16        0.135  \n",
       "9   6.407429e+18       -0.019  \n",
       "10  2.554032e+18        0.014  \n",
       "11  6.064773e+17        0.308  \n",
       "12  2.993562e+18        0.258  \n",
       "13  5.300667e+16       -0.201  \n",
       "14  3.580921e+18       -0.191  \n",
       "15  2.597120e+18        0.076  \n",
       "16  3.409149e+18        0.080  \n",
       "17  6.237130e+18        0.328  \n",
       "18  2.405082e+18       -0.124  \n",
       "19  3.850421e+18       -0.178  \n",
       "20  2.613413e+18        0.415  "
      ]
     },
     "execution_count": 13,
     "metadata": {},
     "output_type": "execute_result"
    }
   ],
   "source": [
    "path = '/home/hannakasperer/Dissertation-/Sample/main_sample_ab.csv'\n",
    "sample = pd.read_csv(path,sep=',') \n",
    "sample[[\"star\",\"teff\",\"logg\",\"feh\",\"planet_name\",\"gaia_dr3_id\",\"MgI_rel_sun\"]]"
   ]
  },
  {
   "cell_type": "markdown",
   "id": "65f781d0",
   "metadata": {},
   "source": [
    "## vsini from SIMBAD"
   ]
  },
  {
   "cell_type": "code",
   "execution_count": 3,
   "id": "94eedb80",
   "metadata": {},
   "outputs": [
    {
     "name": "stdout",
     "output_type": "stream",
     "text": [
      "corot-07, vsini mean: 2.71 std: 2.27\n"
     ]
    }
   ],
   "source": [
    "#corot-07\n",
    "\n",
    "vsini_ref = [2.31,1.995,1.501,7.00,0.00,2.639,2.111,6.335,0.5]\n",
    "\n",
    "mean = np.mean(vsini_ref)\n",
    "std = np.std(vsini_ref)\n",
    "\n",
    "mean = np.round(mean,2)\n",
    "std = np.round(std,2)\n",
    "\n",
    "print(\"corot-07, vsini mean:\",mean,\"std:\",std)"
   ]
  },
  {
   "cell_type": "code",
   "execution_count": 7,
   "id": "d63bdb67",
   "metadata": {},
   "outputs": [
    {
     "name": "stdout",
     "output_type": "stream",
     "text": [
      "55 cnc, vsini mean: 2.24 std: 1.52\n"
     ]
    }
   ],
   "source": [
    "#55 cnc\n",
    "\n",
    "vsini_ref = [2.3,2.2,0,0.2,2.17,4.4,4.4,2.27]\n",
    "\n",
    "mean = np.mean(vsini_ref)\n",
    "std = np.std(vsini_ref)\n",
    "\n",
    "mean = np.round(mean,2)\n",
    "std = np.round(std,2)\n",
    "\n",
    "print(\"55 cnc, vsini mean:\",mean,\"std:\",std)"
   ]
  },
  {
   "cell_type": "code",
   "execution_count": 8,
   "id": "cca61289",
   "metadata": {},
   "outputs": [
    {
     "name": "stdout",
     "output_type": "stream",
     "text": [
      "k2-106, vsini mean: 1.74 std: 0.29\n"
     ]
    }
   ],
   "source": [
    "#k2-106\n",
    "\n",
    "vsini_ref = [2.02,1.515,2.030,1.4]\n",
    "\n",
    "mean = np.mean(vsini_ref)\n",
    "std = np.std(vsini_ref)\n",
    "\n",
    "mean = np.round(mean,2)\n",
    "std = np.round(std,2)\n",
    "\n",
    "print(\"k2-106, vsini mean:\",mean,\"std:\",std)"
   ]
  },
  {
   "cell_type": "code",
   "execution_count": null,
   "id": "24155e58",
   "metadata": {},
   "outputs": [
    {
     "name": "stdout",
     "output_type": "stream",
     "text": [
      "k2-106, vsini mean: 2.41 std: 0.05\n"
     ]
    }
   ],
   "source": [
    "#k2-229\n",
    "\n",
    "vsini_ref = [2.35,2.46]\n",
    "\n",
    "mean = np.mean(vsini_ref)\n",
    "std = np.std(vsini_ref)\n",
    "\n",
    "mean = np.round(mean,2)\n",
    "std = np.round(std,2)\n",
    "\n",
    "print(\"k2-229, vsini mean:\",mean,\"std:\",std)"
   ]
  },
  {
   "cell_type": "code",
   "execution_count": 12,
   "id": "88f76a37",
   "metadata": {},
   "outputs": [
    {
     "name": "stdout",
     "output_type": "stream",
     "text": [
      "hd136, vsini mean: 2.55 std: 0.87\n"
     ]
    }
   ],
   "source": [
    "#hd 136\n",
    "\n",
    "vsini_ref = [2.0,3.1,3.3,1.546,2.0,1.872,2.262,4.3]\n",
    "\n",
    "mean = np.mean(vsini_ref)\n",
    "std = np.std(vsini_ref)\n",
    "\n",
    "mean = np.round(mean,2)\n",
    "std = np.round(std,2)\n",
    "\n",
    "print(\"hd136, vsini mean:\",mean,\"std:\",std)"
   ]
  },
  {
   "cell_type": "code",
   "execution_count": 14,
   "id": "f801f5b9",
   "metadata": {},
   "outputs": [
    {
     "name": "stdout",
     "output_type": "stream",
     "text": [
      "toi 402, vsini mean: 1.26 std: 0.96\n"
     ]
    }
   ],
   "source": [
    "#toi 402\n",
    "\n",
    "vsini_ref = [0.0,1.468,2.322]\n",
    "\n",
    "mean = np.mean(vsini_ref)\n",
    "std = np.std(vsini_ref)\n",
    "\n",
    "mean = np.round(mean,2)\n",
    "std = np.round(std,2)\n",
    "\n",
    "print(\"toi 402, vsini mean:\",mean,\"std:\",std)"
   ]
  },
  {
   "cell_type": "code",
   "execution_count": null,
   "id": "64911567",
   "metadata": {},
   "outputs": [
    {
     "name": "stdout",
     "output_type": "stream",
     "text": [
      "hd213, vsini mean: 3.5 std: 0.5\n"
     ]
    }
   ],
   "source": [
    "#hd213\n",
    "\n",
    "vsini_ref = [4.0,3.0]\n",
    "\n",
    "mean = np.mean(vsini_ref)\n",
    "std = np.std(vsini_ref)\n",
    "\n",
    "mean = np.round(mean,2)\n",
    "std = np.round(std,2)\n",
    "\n",
    "print(\"hd213, vsini mean:\",mean,\"std:\",std)"
   ]
  },
  {
   "cell_type": "code",
   "execution_count": 16,
   "id": "1989a205",
   "metadata": {},
   "outputs": [
    {
     "name": "stdout",
     "output_type": "stream",
     "text": [
      "hd3167, vsini mean: 1.17 std: 0.83\n"
     ]
    }
   ],
   "source": [
    "#hd3167\n",
    "\n",
    "vsini_ref = [1.77,1.730,0.0]\n",
    "\n",
    "mean = np.mean(vsini_ref)\n",
    "std = np.std(vsini_ref)\n",
    "\n",
    "mean = np.round(mean,2)\n",
    "std = np.round(std,2)\n",
    "\n",
    "print(\"hd3167, vsini mean:\",mean,\"std:\",std)"
   ]
  },
  {
   "cell_type": "code",
   "execution_count": 17,
   "id": "8dd0edf5",
   "metadata": {},
   "outputs": [
    {
     "name": "stdout",
     "output_type": "stream",
     "text": [
      "toi496, vsini mean: 2.03 std: 0.23\n"
     ]
    }
   ],
   "source": [
    "#toi496\n",
    "\n",
    "vsini_ref = [1.8,1.8,2.224,2.3]\n",
    "\n",
    "mean = np.mean(vsini_ref)\n",
    "std = np.std(vsini_ref)\n",
    "\n",
    "mean = np.round(mean,2)\n",
    "std = np.round(std,2)\n",
    "\n",
    "print(\"toi496, vsini mean:\",mean,\"std:\",std)"
   ]
  },
  {
   "cell_type": "code",
   "execution_count": 18,
   "id": "4d927ee8",
   "metadata": {},
   "outputs": [
    {
     "name": "stdout",
     "output_type": "stream",
     "text": [
      "k2-111, vsini mean: 1.73 std: 0.12\n"
     ]
    }
   ],
   "source": [
    "#k2-111\n",
    "\n",
    "vsini_ref = [1.85,1.613]\n",
    "\n",
    "mean = np.mean(vsini_ref)\n",
    "std = np.std(vsini_ref)\n",
    "\n",
    "mean = np.round(mean,2)\n",
    "std = np.round(std,2)\n",
    "\n",
    "print(\"k2-111, vsini mean:\",mean,\"std:\",std)"
   ]
  },
  {
   "cell_type": "code",
   "execution_count": 19,
   "id": "8a8d96a0",
   "metadata": {},
   "outputs": [
    {
     "name": "stdout",
     "output_type": "stream",
     "text": [
      "k2-131, vsini mean: 4.17 std: 0.26\n"
     ]
    }
   ],
   "source": [
    "#k2-131\n",
    "\n",
    "vsini_ref = [3.8,4.3,4.4]\n",
    "\n",
    "mean = np.mean(vsini_ref)\n",
    "std = np.std(vsini_ref)\n",
    "\n",
    "mean = np.round(mean,2)\n",
    "std = np.round(std,2)\n",
    "\n",
    "print(\"k2-131, vsini mean:\",mean,\"std:\",std)"
   ]
  },
  {
   "cell_type": "code",
   "execution_count": 20,
   "id": "d7b27195",
   "metadata": {},
   "outputs": [
    {
     "name": "stdout",
     "output_type": "stream",
     "text": [
      "k2-265, vsini mean: 2.61 std: 0.52\n"
     ]
    }
   ],
   "source": [
    "#k2-265\n",
    "\n",
    "vsini_ref = [2.09,3.129]\n",
    "\n",
    "mean = np.mean(vsini_ref)\n",
    "std = np.std(vsini_ref)\n",
    "\n",
    "mean = np.round(mean,2)\n",
    "std = np.round(std,2)\n",
    "\n",
    "print(\"k2-265, vsini mean:\",mean,\"std:\",std)"
   ]
  },
  {
   "cell_type": "code",
   "execution_count": 21,
   "id": "b83accaf",
   "metadata": {},
   "outputs": [
    {
     "name": "stdout",
     "output_type": "stream",
     "text": [
      "k2-38, vsini mean: 2.73 std: 1.52\n"
     ]
    }
   ],
   "source": [
    "#k2-38\n",
    "\n",
    "vsini_ref = [1.507,2.107,1.726,2.551,2.465,6.027]\n",
    "\n",
    "mean = np.mean(vsini_ref)\n",
    "std = np.std(vsini_ref)\n",
    "\n",
    "mean = np.round(mean,2)\n",
    "std = np.round(std,2)\n",
    "\n",
    "print(\"k2-38, vsini mean:\",mean,\"std:\",std)"
   ]
  },
  {
   "cell_type": "code",
   "execution_count": 22,
   "id": "4809bff4",
   "metadata": {},
   "outputs": [
    {
     "name": "stdout",
     "output_type": "stream",
     "text": [
      "toi-561, vsini mean: 1.52 std: 0.01\n"
     ]
    }
   ],
   "source": [
    "#toi561\n",
    "\n",
    "vsini_ref = [1.53,1.502]\n",
    "\n",
    "mean = np.mean(vsini_ref)\n",
    "std = np.std(vsini_ref)\n",
    "\n",
    "mean = np.round(mean,2)\n",
    "std = np.round(std,2)\n",
    "\n",
    "print(\"toi-561, vsini mean:\",mean,\"std:\",std)"
   ]
  },
  {
   "cell_type": "code",
   "execution_count": 23,
   "id": "fa0a3834",
   "metadata": {},
   "outputs": [
    {
     "name": "stdout",
     "output_type": "stream",
     "text": [
      "wasp47, vsini mean: 2.26 std: 0.51\n"
     ]
    }
   ],
   "source": [
    "#wasp47\n",
    "\n",
    "vsini_ref = [2.48,1.776,1.80,3.0]\n",
    "\n",
    "mean = np.mean(vsini_ref)\n",
    "std = np.std(vsini_ref)\n",
    "\n",
    "mean = np.round(mean,2)\n",
    "std = np.round(std,2)\n",
    "\n",
    "print(\"wasp47, vsini mean:\",mean,\"std:\",std)"
   ]
  },
  {
   "cell_type": "markdown",
   "id": "dac452bd",
   "metadata": {},
   "source": [
    "## RV shift"
   ]
  },
  {
   "cell_type": "code",
   "execution_count": null,
   "id": "0f4b2afa",
   "metadata": {},
   "outputs": [],
   "source": [
    "#corot-07\n",
    "\n",
    "rv_corot = 31.110 #km/s\n",
    "c = 299792.458 #km/s\n",
    "\n",
    "rest_wavelength = obs_wavelength / (1 + rv_corot / c)"
   ]
  }
 ],
 "metadata": {
  "kernelspec": {
   "display_name": "upaupa",
   "language": "python",
   "name": "python3"
  },
  "language_info": {
   "codemirror_mode": {
    "name": "ipython",
    "version": 3
   },
   "file_extension": ".py",
   "mimetype": "text/x-python",
   "name": "python",
   "nbconvert_exporter": "python",
   "pygments_lexer": "ipython3",
   "version": "3.10.15"
  }
 },
 "nbformat": 4,
 "nbformat_minor": 5
}
